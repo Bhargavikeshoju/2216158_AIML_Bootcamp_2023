{
  "nbformat": 4,
  "nbformat_minor": 0,
  "metadata": {
    "colab": {
      "provenance": [],
      "authorship_tag": "ABX9TyPu2dRTsGRpAg/VCPZiM9pH",
      "include_colab_link": true
    },
    "kernelspec": {
      "name": "python3",
      "display_name": "Python 3"
    },
    "language_info": {
      "name": "python"
    }
  },
  "cells": [
    {
      "cell_type": "markdown",
      "metadata": {
        "id": "view-in-github",
        "colab_type": "text"
      },
      "source": [
        "<a href=\"https://colab.research.google.com/github/Bhargavikeshoju/2216158_AIML_Bootcamp_2023/blob/main/Assignment_1.ipynb\" target=\"_parent\"><img src=\"https://colab.research.google.com/assets/colab-badge.svg\" alt=\"Open In Colab\"/></a>"
      ]
    },
    {
      "cell_type": "code",
      "execution_count": null,
      "metadata": {
        "id": "rVp-IpVS8n4b"
      },
      "outputs": [],
      "source": []
    },
    {
      "cell_type": "code",
      "source": [
        "# 1)string methods\n",
        "str=\"aiml boot camp\"\n",
        "\n",
        "#capitalize\n",
        "print(str.capitalize())\n",
        "#upper\n",
        "print(str.upper())\n",
        "#lower\n",
        "print(str.lower())\n",
        "#title\n",
        "print(str.title())\n",
        "#endswith\n",
        "print(str.endswith('p'))\n",
        "#startswith\n",
        "print(str.startswith('i'))\n",
        "#count\n",
        "print(str.count(\"boot\"))\n",
        "#islower\n",
        "print(str.islower())\n",
        "#isupper\n",
        "print(str.isupper())\n",
        "#swapcase\n",
        "print(str.swapcase())\n",
        "#isalpha\n",
        "print(str.isalpha())\n",
        "#isnumeric\n",
        "print(str.isnumeric())\n",
        "\n",
        "str1=\"   Bhargavi   \"\n",
        "#strip\n",
        "print(str1.strip())\n",
        "#lstrip\n",
        "print(str1.lstrip())\n",
        "#rstrip\n",
        "print(str1.rstrip())\n",
        "#split\n",
        "str2=\"Aimlpython\"\n",
        "print(str2.split('p'))\n"
      ],
      "metadata": {
        "colab": {
          "base_uri": "https://localhost:8080/"
        },
        "id": "as4rtZ9k8sOd",
        "outputId": "b1428da3-f82e-409d-a63a-bab047a34ff4"
      },
      "execution_count": 84,
      "outputs": [
        {
          "output_type": "stream",
          "name": "stdout",
          "text": [
            "Aiml boot camp\n",
            "AIML BOOT CAMP\n",
            "aiml boot camp\n",
            "Aiml Boot Camp\n",
            "True\n",
            "False\n",
            "1\n",
            "True\n",
            "False\n",
            "AIML BOOT CAMP\n",
            "False\n",
            "False\n",
            "Bhargavi\n",
            "Bhargavi   \n",
            "   Bhargavi\n",
            "['Aiml', 'ython']\n"
          ]
        }
      ]
    },
    {
      "cell_type": "code",
      "source": [
        "# 2)list methods\n",
        "list=['aiml','boot','camp']\n",
        "\n",
        "#append\n",
        "list.append('bhargavi')\n",
        "print(list)\n",
        "#insert\n",
        "list.insert(0,'python')\n",
        "print(list)\n",
        "#reverse\n",
        "list.reverse()\n",
        "print(list)\n",
        "#remove\n",
        "list.remove('bhargavi')\n",
        "print(list)\n",
        "#sort\n",
        "list.sort()\n",
        "print(list)\n",
        "#pop\n",
        "list.pop(3)\n",
        "print(list)\n",
        "#count\n",
        "print(list.count('aiml'))\n",
        "\n",
        "l1=[5,6,7,8,9]\n",
        "#max\n",
        "print(max(l1))\n",
        "#index\n",
        "print(l1.index(6))\n",
        "#extend\n",
        "l1.extend([1,2,3,4])\n",
        "print(l1)\n",
        "#extend\n",
        "list.extend(l1)\n",
        "print(list)\n",
        "#clear\n",
        "list.clear()\n",
        "print(list)"
      ],
      "metadata": {
        "colab": {
          "base_uri": "https://localhost:8080/"
        },
        "id": "aD0_Q5Ba_8jc",
        "outputId": "c9bbc530-d717-4469-97f0-39f9beb382bd"
      },
      "execution_count": 46,
      "outputs": [
        {
          "output_type": "stream",
          "name": "stdout",
          "text": [
            "['aiml', 'boot', 'camp', 'bhargavi']\n",
            "['python', 'aiml', 'boot', 'camp', 'bhargavi']\n",
            "['bhargavi', 'camp', 'boot', 'aiml', 'python']\n",
            "['camp', 'boot', 'aiml', 'python']\n",
            "['aiml', 'boot', 'camp', 'python']\n",
            "['aiml', 'boot', 'camp']\n",
            "1\n",
            "9\n",
            "1\n",
            "[5, 6, 7, 8, 9, 1, 2, 3, 4]\n",
            "['aiml', 'boot', 'camp', 5, 6, 7, 8, 9, 1, 2, 3, 4]\n",
            "[]\n"
          ]
        }
      ]
    },
    {
      "cell_type": "code",
      "source": [
        "# 3)Tuple methods\n",
        "tup=(1,2,3,4,1,2,3,4,3)\n",
        "\n",
        "#count\n",
        "print(tup.count(3))\n",
        "print(tup.count(1))\n",
        "#index\n",
        "print(tup.index(2))\n",
        "print(tup.index(4))\n",
        "#max\n",
        "print(max(tup))\n",
        "#min\n",
        "print(min(tup))\n",
        "#len\n",
        "print(len(tup))\n"
      ],
      "metadata": {
        "colab": {
          "base_uri": "https://localhost:8080/"
        },
        "id": "VGVHONCcEly1",
        "outputId": "2888b470-175d-45a8-98f4-80c54d991876"
      },
      "execution_count": 86,
      "outputs": [
        {
          "output_type": "stream",
          "name": "stdout",
          "text": [
            "3\n",
            "2\n",
            "1\n",
            "3\n",
            "4\n",
            "1\n",
            "9\n"
          ]
        }
      ]
    },
    {
      "cell_type": "code",
      "source": [],
      "metadata": {
        "id": "qQ2_edR6ODHE"
      },
      "execution_count": null,
      "outputs": []
    },
    {
      "cell_type": "code",
      "source": [
        "# 4)Dictionary methods\n",
        "dic={'a':'A','i':'I','m':'M','l':'L'}\n",
        "\n",
        "#from keys\n",
        "print(dict.fromkeys(dic,None))\n",
        "print(dict.fromkeys(dic,1))\n",
        "#get\n",
        "print(dic.get('a'))\n",
        "print(dic.get('l'))\n",
        "#items\n",
        "print(dic.items())\n",
        "#keys\n",
        "print(dic.keys())\n",
        "#values\n",
        "print(dic.values())\n",
        "#pop\n",
        "dic.pop('l')\n",
        "print(dic)\n",
        "#update\n",
        "dic2={'l':'L'}\n",
        "dic.update(dic2)\n",
        "print(\"After updation:\")\n",
        "print(dic)\n",
        "#popitem\n",
        "print(dic.popitem())\n",
        "print(\"After popping:\")\n",
        "print(dic)\n",
        "#setdefault\n",
        "dic.setdefault('Python','boot camp')\n",
        "print(dic)\n",
        "#copy\n",
        "d=dic.copy()\n",
        "print(d)\n",
        "#clear\n",
        "d.clear()\n",
        "print(\"After clearing:\")\n",
        "print(d)"
      ],
      "metadata": {
        "colab": {
          "base_uri": "https://localhost:8080/"
        },
        "id": "PFUPGVCNGP1y",
        "outputId": "3ad8f92a-b2b5-4fdf-8c51-23d928a241b6"
      },
      "execution_count": 78,
      "outputs": [
        {
          "output_type": "stream",
          "name": "stdout",
          "text": [
            "{'a': None, 'i': None, 'm': None, 'l': None}\n",
            "{'a': 1, 'i': 1, 'm': 1, 'l': 1}\n",
            "A\n",
            "L\n",
            "dict_items([('a', 'A'), ('i', 'I'), ('m', 'M'), ('l', 'L')])\n",
            "dict_keys(['a', 'i', 'm', 'l'])\n",
            "dict_values(['A', 'I', 'M', 'L'])\n",
            "{'a': 'A', 'i': 'I', 'm': 'M'}\n",
            "After updation:\n",
            "{'a': 'A', 'i': 'I', 'm': 'M', 'l': 'L'}\n",
            "('l', 'L')\n",
            "After popping:\n",
            "{'a': 'A', 'i': 'I', 'm': 'M'}\n",
            "{'a': 'A', 'i': 'I', 'm': 'M', 'Python': 'boot camp'}\n",
            "{'a': 'A', 'i': 'I', 'm': 'M', 'Python': 'boot camp'}\n",
            "After clearing:\n",
            "{}\n"
          ]
        }
      ]
    },
    {
      "cell_type": "code",
      "source": [
        "# 5)Set methods\n",
        "set1={2,4,6,8,10,12,14,16,18,20}\n",
        "set2={2,4,6,\"sru\",(1,2,3)}\n",
        "\n",
        "#add\n",
        "set1.add(22)\n",
        "print(set1)\n",
        "#update\n",
        "set1.update([20,22,24])\n",
        "print(set1)\n",
        "#discard\n",
        "set1.discard(24)\n",
        "print(set1)\n",
        "#remove\n",
        "set1.remove(20)\n",
        "print(set1)\n",
        "#clear\n",
        "print(set2.clear())\n",
        "print(set2)\n"
      ],
      "metadata": {
        "colab": {
          "base_uri": "https://localhost:8080/"
        },
        "id": "eTjVqY7rLMpv",
        "outputId": "6850ab40-4ec1-4ac8-b711-bc7f5ed6fb9f"
      },
      "execution_count": 88,
      "outputs": [
        {
          "output_type": "stream",
          "name": "stdout",
          "text": [
            "{2, 4, 6, 8, 10, 12, 14, 16, 18, 20, 22}\n",
            "{2, 4, 6, 8, 10, 12, 14, 16, 18, 20, 22, 24}\n",
            "{2, 4, 6, 8, 10, 12, 14, 16, 18, 20, 22}\n",
            "{2, 4, 6, 8, 10, 12, 14, 16, 18, 22}\n",
            "None\n",
            "set()\n"
          ]
        }
      ]
    },
    {
      "cell_type": "code",
      "source": [
        "# 6)convert decimal to binary,octal and hexadecimal\n",
        "\n",
        "#Decimal to BInary\n",
        "n=int(input('enter a number:'))\n",
        "def decimalToBinary(n):\n",
        "  if n>1:\n",
        "      decimalToBinary(n//2)\n",
        "  print(n%2,end=' ')\n",
        "decimalToBinary(n)\n",
        "print(\"\\n\")\n",
        "\n",
        "#Decimal to Octal\n",
        "n=int(input('enter a number:'))\n",
        "def decimalToOctal(n):\n",
        "  if n>1:\n",
        "      decimalToOctal(n//8)\n",
        "  print(n%8,end=' ')\n",
        "decimalToOctal(n)\n",
        "print(\"\\n\")\n",
        "\n",
        "#Decimal to Hexadecimal\n",
        "n=int(input('enter a number:'))\n",
        "def decimalToHexa(n):\n",
        "  if n>1:\n",
        "      decimalToHexa(n//16)\n",
        "  print(n%16,end=' ')\n",
        "decimalToHexa(n)"
      ],
      "metadata": {
        "colab": {
          "base_uri": "https://localhost:8080/"
        },
        "id": "_gGxvbBROutj",
        "outputId": "e40eba1f-d521-496f-b521-65b39b21e8cf"
      },
      "execution_count": 90,
      "outputs": [
        {
          "output_type": "stream",
          "name": "stdout",
          "text": [
            "enter a number:10\n",
            "1 0 1 0 \n",
            "\n",
            "enter a number:20\n",
            "0 2 4 \n",
            "\n",
            "enter a number:34\n",
            "0 2 2 "
          ]
        }
      ]
    },
    {
      "cell_type": "code",
      "source": [
        "# 7)Arithmetic operators\n",
        "\n",
        "#addition\n",
        "a=5+10\n",
        "#subtraction\n",
        "b=5-10\n",
        "#multiplication\n",
        "c=5*10\n",
        "#division\n",
        "d=5/10\n",
        "#modulus\n",
        "e=5%10\n",
        "#exponent\n",
        "f=5**10\n",
        "#floor division\n",
        "g=5//10\n",
        "print(a)\n",
        "print(b)\n",
        "print(c)\n",
        "print(d)\n",
        "print(e)\n",
        "print(f)\n",
        "print(g)\n"
      ],
      "metadata": {
        "colab": {
          "base_uri": "https://localhost:8080/"
        },
        "id": "OfdM927XPetT",
        "outputId": "34720aaa-9375-479c-e0f1-6bd69be13195"
      },
      "execution_count": 91,
      "outputs": [
        {
          "output_type": "stream",
          "name": "stdout",
          "text": [
            "15\n",
            "-5\n",
            "50\n",
            "0.5\n",
            "5\n",
            "9765625\n",
            "0\n"
          ]
        }
      ]
    },
    {
      "cell_type": "code",
      "source": [
        "# 8)Assignment operators\n",
        "\n",
        "a=10\n",
        "print(a)\n",
        "a+=3\n",
        "print(a)\n",
        "a-=3\n",
        "print(a)\n",
        "a*=2\n",
        "print(a)\n",
        "a/=5\n",
        "print(a)\n",
        "a%=5\n",
        "print(a)\n",
        "a//=5\n",
        "print(a)\n",
        "b=25\n",
        "b**=2\n",
        "print(b)"
      ],
      "metadata": {
        "colab": {
          "base_uri": "https://localhost:8080/"
        },
        "id": "DoCqT6M2QImL",
        "outputId": "838e401a-d8db-4cbe-cf81-60cec53b7721"
      },
      "execution_count": 93,
      "outputs": [
        {
          "output_type": "stream",
          "name": "stdout",
          "text": [
            "10\n",
            "13\n",
            "10\n",
            "20\n",
            "4.0\n",
            "4.0\n",
            "0.0\n",
            "625\n"
          ]
        }
      ]
    },
    {
      "cell_type": "code",
      "source": [
        "# 9)Comparison operators\n",
        "\n",
        "a=10\n",
        "b=15\n",
        "print(a==b)\n",
        "print(a>b)\n",
        "print(b>a)\n",
        "print(a>=b)\n",
        "print(a<=b)\n",
        "print(b>=a)\n",
        "print(b<=a)\n",
        "print(a!=b)"
      ],
      "metadata": {
        "colab": {
          "base_uri": "https://localhost:8080/"
        },
        "id": "s8yipGA5QdS5",
        "outputId": "dc3932ae-e39b-461f-8979-52753e597f16"
      },
      "execution_count": 94,
      "outputs": [
        {
          "output_type": "stream",
          "name": "stdout",
          "text": [
            "False\n",
            "False\n",
            "True\n",
            "False\n",
            "True\n",
            "True\n",
            "False\n",
            "True\n"
          ]
        }
      ]
    },
    {
      "cell_type": "code",
      "source": [
        "# 10)Logical Operators\n",
        "\n",
        "a=True\n",
        "b=True\n",
        "c=False\n",
        "print(a and b)\n",
        "print((a and b) and ( b and c))\n",
        "print((a and b) or ( b and c))\n",
        "print((a or b) and ( b or c))\n",
        "print(a or b)\n",
        "print(not a)\n",
        "a=10\n",
        "b=13\n",
        "print(a<10 and b<5)\n",
        "print(a<10 or b<5)\n",
        "print (not(a<10 or b<5))"
      ],
      "metadata": {
        "colab": {
          "base_uri": "https://localhost:8080/"
        },
        "id": "jPqkzPNrQoGS",
        "outputId": "717ed21b-21fd-4c1e-9b4a-672172f463d5"
      },
      "execution_count": 96,
      "outputs": [
        {
          "output_type": "stream",
          "name": "stdout",
          "text": [
            "True\n",
            "False\n",
            "True\n",
            "True\n",
            "True\n",
            "False\n",
            "False\n",
            "False\n",
            "True\n"
          ]
        }
      ]
    },
    {
      "cell_type": "code",
      "source": [
        "# 11)Bitwise operators\n",
        "\n",
        "a=20\n",
        "b=12\n",
        "print(a&b)\n",
        "print(a|b)\n",
        "print(~a)\n",
        "print(a>>2)\n",
        "print(a<<2)\n",
        "     "
      ],
      "metadata": {
        "colab": {
          "base_uri": "https://localhost:8080/"
        },
        "id": "CiL1UI0cQ2eD",
        "outputId": "2bed07b0-3063-4769-8039-89e7198dd13e"
      },
      "execution_count": 97,
      "outputs": [
        {
          "output_type": "stream",
          "name": "stdout",
          "text": [
            "4\n",
            "28\n",
            "-21\n",
            "5\n",
            "80\n"
          ]
        }
      ]
    },
    {
      "cell_type": "code",
      "source": [
        "# 12)Membership operators\n",
        "\n",
        "x=\"PYTHON\"\n",
        "y={1:\"Aiml\",2:\"Boot\",3:\"Camp\"}\n",
        "print('y' in x)\n",
        "print('p' not in x)\n",
        "print(2 in y)\n",
        "print(\"Python\" in y)"
      ],
      "metadata": {
        "colab": {
          "base_uri": "https://localhost:8080/"
        },
        "id": "mKxS8TqYRBGK",
        "outputId": "24ed89d6-5727-48c3-ec6e-722e933a6e64"
      },
      "execution_count": 98,
      "outputs": [
        {
          "output_type": "stream",
          "name": "stdout",
          "text": [
            "False\n",
            "True\n",
            "True\n",
            "False\n"
          ]
        }
      ]
    },
    {
      "cell_type": "code",
      "source": [
        "# 13)Identity Operators\n",
        "\n",
        "x=[1,2,3]\n",
        "y=[4,5,6]\n",
        "print(x is y)\n",
        "print (x is not y)\n",
        "\n",
        "z=100\n",
        "t=2\n",
        "print(z is t)\n",
        "print (z is not t)"
      ],
      "metadata": {
        "colab": {
          "base_uri": "https://localhost:8080/"
        },
        "id": "WqOG0zM6ReFn",
        "outputId": "a64680ec-ceca-445d-c210-ce57632d5704"
      },
      "execution_count": 106,
      "outputs": [
        {
          "output_type": "stream",
          "name": "stdout",
          "text": [
            "False\n",
            "True\n",
            "False\n",
            "True\n"
          ]
        }
      ]
    },
    {
      "cell_type": "code",
      "source": [
        "# 14)Negative indexing for list and apply slicing\n",
        "\n",
        "list1=[100,220,330,440,550]\n",
        "print(list1[-1])\n",
        "print(list1[-5])\n",
        "#slicing\n",
        "print(list1[-1::-1])\n",
        "print(list1[-4:-2])\n",
        "print(list1[::-1])\n",
        "\n",
        "list2=[100,200,[50,1,20],[13,40,64,70],110]\n",
        "print(list2[3][-1])\n",
        "print(list2[2][::-1])\n",
        "print(list2[3][1:3])\n"
      ],
      "metadata": {
        "colab": {
          "base_uri": "https://localhost:8080/"
        },
        "id": "dvskkER4R9Ad",
        "outputId": "2b61f361-e455-48ef-e0a2-96b2b7bd41fb"
      },
      "execution_count": 100,
      "outputs": [
        {
          "output_type": "stream",
          "name": "stdout",
          "text": [
            "550\n",
            "100\n",
            "[550, 440, 330, 220, 100]\n",
            "[220, 330]\n",
            "[550, 440, 330, 220, 100]\n",
            "70\n",
            "[20, 1, 50]\n",
            "[40, 64]\n"
          ]
        }
      ]
    },
    {
      "cell_type": "code",
      "source": [
        "# 15)predict the output for the given code snippet and justify the result\n",
        "\n",
        "print('A series of characters designated as one subject know as a string'[::-1][4::3])\n",
        "#justification\n",
        "''' reverse of statement is   'gnirts a sa wonk tcejbus eno sa detangised sretcarahc fo seires A' \n",
        "and [4::3] takes index 4 and then leaves one letter and prints next\n",
        "output:'taao eue  tgestrcoeeA'   '''\n",
        "print(\"\\n------------------------------------\")\n",
        "print('Welcome to python training program'[3:10][::-1])  \n",
        "#justification\n",
        "#index from 3 to 10  statement is come to and slicing[::-1] of it is output:ot emoc "
      ],
      "metadata": {
        "colab": {
          "base_uri": "https://localhost:8080/"
        },
        "id": "gd6iCOaOScHl",
        "outputId": "292a304c-5c6a-4d07-8ecc-847289a721fa"
      },
      "execution_count": 101,
      "outputs": [
        {
          "output_type": "stream",
          "name": "stdout",
          "text": [
            "taao eue  tgestrcoeeA\n",
            "\n",
            "------------------------------------\n",
            "ot emoc\n"
          ]
        }
      ]
    },
    {
      "cell_type": "code",
      "source": [
        "# 16)Write a python code to get the desired output\n",
        "\n",
        "p_phrase=\"was it a car or a cat I saw\"\n",
        "print(p_phrase[::-1].upper())"
      ],
      "metadata": {
        "colab": {
          "base_uri": "https://localhost:8080/"
        },
        "id": "8mPsj95PSxMt",
        "outputId": "9f4741d3-2947-4cec-9eda-0c2febec4204"
      },
      "execution_count": 102,
      "outputs": [
        {
          "output_type": "stream",
          "name": "stdout",
          "text": [
            "WAS I TAC A RO RAC A TI SAW\n"
          ]
        }
      ]
    },
    {
      "cell_type": "code",
      "source": [
        "# 17)You are required to generate a word similar to ZOO, X and Y that denote the number\n",
        "#of Zs and Os respectively. The generated word similar to ZOO where Y= 2 * X. Input X= 2 Output ZZOOOO Input X= 5 Output ZZZZZOOOOOOOOOO\n",
        "\n",
        "word='ZOO'\n",
        "X=int(input('Enter a number:'))\n",
        "Y=2*X\n",
        "print('Z'*X+'O'*Y)\n",
        "#for input 2 --> ZZOOOO\n",
        "#FOR INNPUT 5-->ZZZZZOOOOOOOOOO"
      ],
      "metadata": {
        "colab": {
          "base_uri": "https://localhost:8080/"
        },
        "id": "ttt0gTfHS8pl",
        "outputId": "349097eb-8268-4479-ea2a-76873633d456"
      },
      "execution_count": 104,
      "outputs": [
        {
          "output_type": "stream",
          "name": "stdout",
          "text": [
            "Enter a number:5\n",
            "ZZZZZOOOOOOOOOO\n"
          ]
        }
      ]
    }
  ]
}