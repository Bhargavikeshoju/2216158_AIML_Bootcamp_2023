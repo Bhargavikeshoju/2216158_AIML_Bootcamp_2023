{
  "nbformat": 4,
  "nbformat_minor": 0,
  "metadata": {
    "colab": {
      "provenance": [],
      "authorship_tag": "ABX9TyNcaHroggbVedaUrx/j3Ljw",
      "include_colab_link": true
    },
    "kernelspec": {
      "name": "python3",
      "display_name": "Python 3"
    },
    "language_info": {
      "name": "python"
    }
  },
  "cells": [
    {
      "cell_type": "markdown",
      "metadata": {
        "id": "view-in-github",
        "colab_type": "text"
      },
      "source": [
        "<a href=\"https://colab.research.google.com/github/Bhargavikeshoju/2216158_AIML_Bootcamp_2023/blob/main/day_4.ipynb\" target=\"_parent\"><img src=\"https://colab.research.google.com/assets/colab-badge.svg\" alt=\"Open In Colab\"/></a>"
      ]
    },
    {
      "cell_type": "code",
      "execution_count": 1,
      "metadata": {
        "colab": {
          "base_uri": "https://localhost:8080/"
        },
        "id": "1dB5iwu1M6JQ",
        "outputId": "671776ac-fc18-4f71-8427-4e62a12ddeb5"
      },
      "outputs": [
        {
          "output_type": "stream",
          "name": "stdout",
          "text": [
            "True\n",
            "450\n",
            "false\n",
            "enter age:20\n",
            "eigible to vote\n"
          ]
        }
      ],
      "source": [
        "#decision making\n",
        "\n",
        "#if statement\n",
        "a=450\n",
        "if a>0:\n",
        "  print(\"True\")\n",
        "  print(a)\n",
        "\n",
        "#if- else statement\n",
        "b=-3\n",
        "if b<0:\n",
        "  print(\"false\")\n",
        "else:\n",
        "  print(\"true\")\n",
        "\n",
        "#nested if\n",
        "a=int(input(\"enter age:\"))\n",
        "if(a>0):\n",
        "  if(a>18):\n",
        "    print(\"eigible to vote\")\n",
        "  elif(a<18):\n",
        "    print(\"not eligible to vote\")\n",
        "else:\n",
        "  print(\"enter valid number\")"
      ]
    },
    {
      "cell_type": "code",
      "source": [
        "#python loops\n",
        "n=[1,2,3,4,5,5]\n",
        "for i in range(1,7): #(1,n-1)\n",
        "  print(i)\n",
        "s=0\n",
        "for j in n:\n",
        "  s=s+j\n",
        "print(\"sum:\",s)\n",
        "\n",
        "for i in range(1,6,3):\n",
        "  print(i)"
      ],
      "metadata": {
        "colab": {
          "base_uri": "https://localhost:8080/"
        },
        "id": "8fiD6UFoNGnH",
        "outputId": "b769d346-7111-4df5-d08b-c1ef155a9bed"
      },
      "execution_count": 2,
      "outputs": [
        {
          "output_type": "stream",
          "name": "stdout",
          "text": [
            "1\n",
            "2\n",
            "3\n",
            "4\n",
            "5\n",
            "6\n",
            "sum: 20\n",
            "1\n",
            "4\n"
          ]
        }
      ]
    },
    {
      "cell_type": "code",
      "source": [
        "#while loop -used for large data\n",
        "c=1\n",
        "while(c<7):\n",
        "  print(c)\n",
        "  c=c+1"
      ],
      "metadata": {
        "colab": {
          "base_uri": "https://localhost:8080/"
        },
        "id": "weVefNkNNKHC",
        "outputId": "70ebceab-5b2a-4e51-bd01-1573014e895f"
      },
      "execution_count": 3,
      "outputs": [
        {
          "output_type": "stream",
          "name": "stdout",
          "text": [
            "1\n",
            "2\n",
            "3\n",
            "4\n",
            "5\n",
            "6\n"
          ]
        }
      ]
    },
    {
      "cell_type": "code",
      "source": [
        "#nested loop\n",
        "\n",
        "#nested for\n",
        "x=[[3,4,5],[4,5,6],[7,8,6]]\n",
        "y=[[4,8,12],[1,1,0],[5,3,0]]\n",
        "res=[[0,0,0],[0,0,0],[0,0,0]]\n",
        "\n",
        "for i in range(len(x)):\n",
        "  for j in range(len(x[0])):\n",
        "    res[i][j]=x[i][j]+y[i][j]\n",
        "for r in res:\n",
        "  print(r)\n"
      ],
      "metadata": {
        "colab": {
          "base_uri": "https://localhost:8080/"
        },
        "id": "vibGap8nNNO8",
        "outputId": "ae742697-49b9-48bc-b578-4ec1b45de0b4"
      },
      "execution_count": 4,
      "outputs": [
        {
          "output_type": "stream",
          "name": "stdout",
          "text": [
            "[7, 12, 17]\n",
            "[5, 6, 6]\n",
            "[12, 11, 6]\n"
          ]
        }
      ]
    },
    {
      "cell_type": "code",
      "source": [
        "#nested while loop\n",
        "n=int(input(\"enter until which table you need\"))\n",
        "i=1\n",
        "while(i<=n):\n",
        "  print(f\"table {i}\")\n",
        "  j=1\n",
        "  while(j<=10):\n",
        "    print(f\"{i}*{j}={i*j}\")\n",
        "    j=j+1\n",
        "  print(\"___________________\")\n",
        "  i=i+1"
      ],
      "metadata": {
        "colab": {
          "base_uri": "https://localhost:8080/"
        },
        "id": "n_l21uLJNRKk",
        "outputId": "5fe92a71-41a9-4378-ddc3-05ae883b5316"
      },
      "execution_count": 5,
      "outputs": [
        {
          "output_type": "stream",
          "name": "stdout",
          "text": [
            "enter until which table you need2\n",
            "table 1\n",
            "1*1=1\n",
            "1*2=2\n",
            "1*3=3\n",
            "1*4=4\n",
            "1*5=5\n",
            "1*6=6\n",
            "1*7=7\n",
            "1*8=8\n",
            "1*9=9\n",
            "1*10=10\n",
            "___________________\n",
            "table 2\n",
            "2*1=2\n",
            "2*2=4\n",
            "2*3=6\n",
            "2*4=8\n",
            "2*5=10\n",
            "2*6=12\n",
            "2*7=14\n",
            "2*8=16\n",
            "2*9=18\n",
            "2*10=20\n",
            "___________________\n"
          ]
        }
      ]
    },
    {
      "cell_type": "code",
      "source": [
        "#control statements\n",
        "\n",
        "#break\n",
        "for q in \"python\":\n",
        "  if(q=='h'):\n",
        "    break\n",
        "  print(\"current letter\",q )\n",
        "print(\"______________________________\")\n",
        "#continue\n",
        "for q in \"python\":\n",
        "  if(q=='h'):\n",
        "    continue\n",
        "  print(\"current letter\",q)\n",
        "print(\"______________________________\")\n",
        "#pass\n",
        "for q in \"python\":\n",
        "  if(q=='h'):\n",
        "    pass\n",
        "    print(\"this ia pass block\")\n",
        "  print(\"current letter\",q)\n"
      ],
      "metadata": {
        "colab": {
          "base_uri": "https://localhost:8080/"
        },
        "id": "TX9ZgHs0NWV4",
        "outputId": "aa4de9e1-1632-4437-8ffd-72d0abae9d4c"
      },
      "execution_count": 6,
      "outputs": [
        {
          "output_type": "stream",
          "name": "stdout",
          "text": [
            "current letter p\n",
            "current letter y\n",
            "current letter t\n",
            "______________________________\n",
            "current letter p\n",
            "current letter y\n",
            "current letter t\n",
            "current letter o\n",
            "current letter n\n",
            "______________________________\n",
            "current letter p\n",
            "current letter y\n",
            "current letter t\n",
            "this ia pass block\n",
            "current letter h\n",
            "current letter o\n",
            "current letter n\n"
          ]
        }
      ]
    },
    {
      "cell_type": "code",
      "source": [
        "#functions\n",
        "def greet(name):\n",
        "  '''this function greets a person'''\n",
        "  print(\"HELLO, \\t\"+name+ \"\\t good morning\")\n",
        "greet(\"Bhargavi\")"
      ],
      "metadata": {
        "colab": {
          "base_uri": "https://localhost:8080/"
        },
        "id": "NzjvluluNaYo",
        "outputId": "66c92f9d-dced-4997-fa38-6b5372d1c2b5"
      },
      "execution_count": 7,
      "outputs": [
        {
          "output_type": "stream",
          "name": "stdout",
          "text": [
            "HELLO, \tBhargavi\t good morning\n"
          ]
        }
      ]
    },
    {
      "cell_type": "code",
      "source": [
        "#default\n",
        "def A(a,b=1,c=2):\n",
        "  return a+b+c\n",
        "print(A(3))\n",
        "print(A(4,4,4))"
      ],
      "metadata": {
        "colab": {
          "base_uri": "https://localhost:8080/"
        },
        "id": "yrswQj5NNhP6",
        "outputId": "01693086-f0b8-474e-8b85-f8aa88265f23"
      },
      "execution_count": 8,
      "outputs": [
        {
          "output_type": "stream",
          "name": "stdout",
          "text": [
            "6\n",
            "12\n"
          ]
        }
      ]
    },
    {
      "cell_type": "code",
      "source": [
        "#keyword\n",
        "def A(a,b=1,c=2):\n",
        "    return a+b+c\n",
        "print(A(a=2,b=3))\n",
        "print(A(c=3,a=1,b=2))\n"
      ],
      "metadata": {
        "colab": {
          "base_uri": "https://localhost:8080/"
        },
        "id": "CRZz9UlpNlEY",
        "outputId": "98b583ee-02f4-4ba2-ad0f-a516bab48409"
      },
      "execution_count": 9,
      "outputs": [
        {
          "output_type": "stream",
          "name": "stdout",
          "text": [
            "7\n",
            "6\n"
          ]
        }
      ]
    },
    {
      "cell_type": "code",
      "source": [
        "#positional\n",
        "def A(a,b,c):\n",
        "  return a+b+c\n",
        "print(A(10,10,20))\n",
        "     \n"
      ],
      "metadata": {
        "colab": {
          "base_uri": "https://localhost:8080/"
        },
        "id": "VWvn_rzbNogy",
        "outputId": "0feadbd0-2c46-4adc-cd24-f1e4d8191778"
      },
      "execution_count": 10,
      "outputs": [
        {
          "output_type": "stream",
          "name": "stdout",
          "text": [
            "40\n"
          ]
        }
      ]
    },
    {
      "cell_type": "code",
      "source": [
        "#arbitrary positional\n",
        "def add_n(*n):\n",
        "  print(sum(n))\n",
        "add_n(1,2,3,4,5)\n",
        "     "
      ],
      "metadata": {
        "colab": {
          "base_uri": "https://localhost:8080/"
        },
        "id": "vgPMgoGRNsWT",
        "outputId": "ed469c8f-ffd1-4fc2-cca8-aae6eaf425f6"
      },
      "execution_count": 11,
      "outputs": [
        {
          "output_type": "stream",
          "name": "stdout",
          "text": [
            "15\n"
          ]
        }
      ]
    },
    {
      "cell_type": "code",
      "source": [
        "#arbitrary keywords\n",
        "def key_args(**kwargs):\n",
        "  return kwargs\n",
        "m=key_args(Apples=30,Bananas=40,cherries=50)\n",
        "print(m['Apples'])\n",
        "print(m)\n",
        "     "
      ],
      "metadata": {
        "colab": {
          "base_uri": "https://localhost:8080/"
        },
        "id": "vVh_Iu28NyUT",
        "outputId": "7d8a84f9-9786-4263-8ca9-8b7ad9dbbcc1"
      },
      "execution_count": 12,
      "outputs": [
        {
          "output_type": "stream",
          "name": "stdout",
          "text": [
            "30\n",
            "{'Apples': 30, 'Bananas': 40, 'cherries': 50}\n"
          ]
        }
      ]
    },
    {
      "cell_type": "code",
      "source": [
        "#higher order functions\n",
        "def shout(text):\n",
        "  return text.upper()\n",
        "def whisper(text):\n",
        "  return text.lower()\n",
        "def explain(func):\n",
        "  greet=func(\"hi ,iam HiGHer OrdeR fUnction\")\n",
        "  print(greet)\n",
        "\n",
        "explain(shout)\n",
        "explain(whisper)"
      ],
      "metadata": {
        "colab": {
          "base_uri": "https://localhost:8080/"
        },
        "id": "l7tUmux7N2Ul",
        "outputId": "f793ef59-9332-46e2-9580-897f47415d64"
      },
      "execution_count": 14,
      "outputs": [
        {
          "output_type": "stream",
          "name": "stdout",
          "text": [
            "HI ,IAM HIGHER ORDER FUNCTION\n",
            "hi ,iam higher order function\n"
          ]
        }
      ]
    }
  ]
}