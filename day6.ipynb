{
  "nbformat": 4,
  "nbformat_minor": 0,
  "metadata": {
    "colab": {
      "provenance": [],
      "authorship_tag": "ABX9TyOmoT0q0SkxdaW1OT9laq9y",
      "include_colab_link": true
    },
    "kernelspec": {
      "name": "python3",
      "display_name": "Python 3"
    },
    "language_info": {
      "name": "python"
    }
  },
  "cells": [
    {
      "cell_type": "markdown",
      "metadata": {
        "id": "view-in-github",
        "colab_type": "text"
      },
      "source": [
        "<a href=\"https://colab.research.google.com/github/Bhargavikeshoju/2216158_AIML_Bootcamp_2023/blob/main/day6.ipynb\" target=\"_parent\"><img src=\"https://colab.research.google.com/assets/colab-badge.svg\" alt=\"Open In Colab\"/></a>"
      ]
    },
    {
      "cell_type": "code",
      "execution_count": 1,
      "metadata": {
        "colab": {
          "base_uri": "https://localhost:8080/",
          "height": 200
        },
        "id": "fL74xhSK616O",
        "outputId": "851ea0eb-bf9b-413e-92f8-e5ec9661d94a"
      },
      "outputs": [
        {
          "output_type": "error",
          "ename": "NameError",
          "evalue": "ignored",
          "traceback": [
            "\u001b[0;31m---------------------------------------------------------------------------\u001b[0m",
            "\u001b[0;31mNameError\u001b[0m                                 Traceback (most recent call last)",
            "\u001b[0;32m<ipython-input-1-0230b49f9fcb>\u001b[0m in \u001b[0;36m<module>\u001b[0;34m\u001b[0m\n\u001b[1;32m      1\u001b[0m \u001b[0;31m#exceptional handling\u001b[0m\u001b[0;34m\u001b[0m\u001b[0;34m\u001b[0m\u001b[0;34m\u001b[0m\u001b[0m\n\u001b[1;32m      2\u001b[0m \u001b[0;31m#name error\u001b[0m\u001b[0;34m\u001b[0m\u001b[0;34m\u001b[0m\u001b[0;34m\u001b[0m\u001b[0m\n\u001b[0;32m----> 3\u001b[0;31m \u001b[0mprint\u001b[0m\u001b[0;34m(\u001b[0m\u001b[0md\u001b[0m\u001b[0;34m)\u001b[0m\u001b[0;34m\u001b[0m\u001b[0;34m\u001b[0m\u001b[0m\n\u001b[0m",
            "\u001b[0;31mNameError\u001b[0m: name 'd' is not defined"
          ]
        }
      ],
      "source": [
        "#exceptional handling\n",
        "#name error\n",
        "print(d)"
      ]
    },
    {
      "cell_type": "code",
      "source": [
        "#value error\n",
        "k=\"25 xyz\"\n",
        "print(int(k))\n",
        "     "
      ],
      "metadata": {
        "colab": {
          "base_uri": "https://localhost:8080/",
          "height": 217
        },
        "id": "X3a3hzk97B0F",
        "outputId": "d52c42d9-690c-40a2-d006-9e23ab912e1a"
      },
      "execution_count": 2,
      "outputs": [
        {
          "output_type": "error",
          "ename": "ValueError",
          "evalue": "ignored",
          "traceback": [
            "\u001b[0;31m---------------------------------------------------------------------------\u001b[0m",
            "\u001b[0;31mValueError\u001b[0m                                Traceback (most recent call last)",
            "\u001b[0;32m<ipython-input-2-1918fd2bf041>\u001b[0m in \u001b[0;36m<module>\u001b[0;34m\u001b[0m\n\u001b[1;32m      1\u001b[0m \u001b[0;31m#value error\u001b[0m\u001b[0;34m\u001b[0m\u001b[0;34m\u001b[0m\u001b[0;34m\u001b[0m\u001b[0m\n\u001b[1;32m      2\u001b[0m \u001b[0mk\u001b[0m\u001b[0;34m=\u001b[0m\u001b[0;34m\"25 xyz\"\u001b[0m\u001b[0;34m\u001b[0m\u001b[0;34m\u001b[0m\u001b[0m\n\u001b[0;32m----> 3\u001b[0;31m \u001b[0mprint\u001b[0m\u001b[0;34m(\u001b[0m\u001b[0mint\u001b[0m\u001b[0;34m(\u001b[0m\u001b[0mk\u001b[0m\u001b[0;34m)\u001b[0m\u001b[0;34m)\u001b[0m\u001b[0;34m\u001b[0m\u001b[0;34m\u001b[0m\u001b[0m\n\u001b[0m\u001b[1;32m      4\u001b[0m \u001b[0;34m\u001b[0m\u001b[0m\n",
            "\u001b[0;31mValueError\u001b[0m: invalid literal for int() with base 10: '25 xyz'"
          ]
        }
      ]
    },
    {
      "cell_type": "code",
      "source": [
        "#zero division error\n",
        "d=10/0\n",
        "print(d)"
      ],
      "metadata": {
        "colab": {
          "base_uri": "https://localhost:8080/",
          "height": 200
        },
        "id": "4BQZ8ir_7JNd",
        "outputId": "47449010-dc23-4d45-ab68-799f1f9abc31"
      },
      "execution_count": 3,
      "outputs": [
        {
          "output_type": "error",
          "ename": "ZeroDivisionError",
          "evalue": "ignored",
          "traceback": [
            "\u001b[0;31m---------------------------------------------------------------------------\u001b[0m",
            "\u001b[0;31mZeroDivisionError\u001b[0m                         Traceback (most recent call last)",
            "\u001b[0;32m<ipython-input-3-efb8d02b13a4>\u001b[0m in \u001b[0;36m<module>\u001b[0;34m\u001b[0m\n\u001b[1;32m      1\u001b[0m \u001b[0;31m#zero division error\u001b[0m\u001b[0;34m\u001b[0m\u001b[0;34m\u001b[0m\u001b[0;34m\u001b[0m\u001b[0m\n\u001b[0;32m----> 2\u001b[0;31m \u001b[0md\u001b[0m\u001b[0;34m=\u001b[0m\u001b[0;36m10\u001b[0m\u001b[0;34m/\u001b[0m\u001b[0;36m0\u001b[0m\u001b[0;34m\u001b[0m\u001b[0;34m\u001b[0m\u001b[0m\n\u001b[0m\u001b[1;32m      3\u001b[0m \u001b[0mprint\u001b[0m\u001b[0;34m(\u001b[0m\u001b[0md\u001b[0m\u001b[0;34m)\u001b[0m\u001b[0;34m\u001b[0m\u001b[0;34m\u001b[0m\u001b[0m\n",
            "\u001b[0;31mZeroDivisionError\u001b[0m: division by zero"
          ]
        }
      ]
    },
    {
      "cell_type": "code",
      "source": [
        "#key error\n",
        "myd={1:\"apple\",2:\"banana\"}\n",
        "myd[3]\n",
        "     "
      ],
      "metadata": {
        "colab": {
          "base_uri": "https://localhost:8080/",
          "height": 217
        },
        "id": "KTWlzJet7OfJ",
        "outputId": "3c151499-9c5a-4a1a-aebf-c076be46d220"
      },
      "execution_count": 4,
      "outputs": [
        {
          "output_type": "error",
          "ename": "KeyError",
          "evalue": "ignored",
          "traceback": [
            "\u001b[0;31m---------------------------------------------------------------------------\u001b[0m",
            "\u001b[0;31mKeyError\u001b[0m                                  Traceback (most recent call last)",
            "\u001b[0;32m<ipython-input-4-b4afdc7dcde2>\u001b[0m in \u001b[0;36m<module>\u001b[0;34m\u001b[0m\n\u001b[1;32m      1\u001b[0m \u001b[0;31m#key error\u001b[0m\u001b[0;34m\u001b[0m\u001b[0;34m\u001b[0m\u001b[0;34m\u001b[0m\u001b[0m\n\u001b[1;32m      2\u001b[0m \u001b[0mmyd\u001b[0m\u001b[0;34m=\u001b[0m\u001b[0;34m{\u001b[0m\u001b[0;36m1\u001b[0m\u001b[0;34m:\u001b[0m\u001b[0;34m\"apple\"\u001b[0m\u001b[0;34m,\u001b[0m\u001b[0;36m2\u001b[0m\u001b[0;34m:\u001b[0m\u001b[0;34m\"banana\"\u001b[0m\u001b[0;34m}\u001b[0m\u001b[0;34m\u001b[0m\u001b[0;34m\u001b[0m\u001b[0m\n\u001b[0;32m----> 3\u001b[0;31m \u001b[0mmyd\u001b[0m\u001b[0;34m[\u001b[0m\u001b[0;36m3\u001b[0m\u001b[0;34m]\u001b[0m\u001b[0;34m\u001b[0m\u001b[0;34m\u001b[0m\u001b[0m\n\u001b[0m\u001b[1;32m      4\u001b[0m \u001b[0;34m\u001b[0m\u001b[0m\n",
            "\u001b[0;31mKeyError\u001b[0m: 3"
          ]
        }
      ]
    },
    {
      "cell_type": "code",
      "source": [
        "#index error\n",
        "li=[1,2,3,4]\n",
        "print(li(5))"
      ],
      "metadata": {
        "colab": {
          "base_uri": "https://localhost:8080/",
          "height": 200
        },
        "id": "mcZ2eSAw7Qkw",
        "outputId": "26f33a12-520e-4a3f-f386-9b7f06f13f3d"
      },
      "execution_count": 5,
      "outputs": [
        {
          "output_type": "error",
          "ename": "TypeError",
          "evalue": "ignored",
          "traceback": [
            "\u001b[0;31m---------------------------------------------------------------------------\u001b[0m",
            "\u001b[0;31mTypeError\u001b[0m                                 Traceback (most recent call last)",
            "\u001b[0;32m<ipython-input-5-4c69a0e61fa4>\u001b[0m in \u001b[0;36m<module>\u001b[0;34m\u001b[0m\n\u001b[1;32m      1\u001b[0m \u001b[0;31m#index error\u001b[0m\u001b[0;34m\u001b[0m\u001b[0;34m\u001b[0m\u001b[0;34m\u001b[0m\u001b[0m\n\u001b[1;32m      2\u001b[0m \u001b[0mli\u001b[0m\u001b[0;34m=\u001b[0m\u001b[0;34m[\u001b[0m\u001b[0;36m1\u001b[0m\u001b[0;34m,\u001b[0m\u001b[0;36m2\u001b[0m\u001b[0;34m,\u001b[0m\u001b[0;36m3\u001b[0m\u001b[0;34m,\u001b[0m\u001b[0;36m4\u001b[0m\u001b[0;34m]\u001b[0m\u001b[0;34m\u001b[0m\u001b[0;34m\u001b[0m\u001b[0m\n\u001b[0;32m----> 3\u001b[0;31m \u001b[0mprint\u001b[0m\u001b[0;34m(\u001b[0m\u001b[0mli\u001b[0m\u001b[0;34m(\u001b[0m\u001b[0;36m5\u001b[0m\u001b[0;34m)\u001b[0m\u001b[0;34m)\u001b[0m\u001b[0;34m\u001b[0m\u001b[0;34m\u001b[0m\u001b[0m\n\u001b[0m",
            "\u001b[0;31mTypeError\u001b[0m: 'list' object is not callable"
          ]
        }
      ]
    },
    {
      "cell_type": "code",
      "source": [
        "#type error\n",
        "c=10\n",
        "d=\"10\"\n",
        "res=c/d"
      ],
      "metadata": {
        "colab": {
          "base_uri": "https://localhost:8080/",
          "height": 200
        },
        "id": "-_dc5AV47YFB",
        "outputId": "b6bf57d3-8552-4d1f-da98-a4c1e093ca56"
      },
      "execution_count": 7,
      "outputs": [
        {
          "output_type": "error",
          "ename": "TypeError",
          "evalue": "ignored",
          "traceback": [
            "\u001b[0;31m---------------------------------------------------------------------------\u001b[0m",
            "\u001b[0;31mTypeError\u001b[0m                                 Traceback (most recent call last)",
            "\u001b[0;32m<ipython-input-7-eea8940d6cdf>\u001b[0m in \u001b[0;36m<module>\u001b[0;34m\u001b[0m\n\u001b[1;32m      2\u001b[0m \u001b[0mc\u001b[0m\u001b[0;34m=\u001b[0m\u001b[0;36m10\u001b[0m\u001b[0;34m\u001b[0m\u001b[0;34m\u001b[0m\u001b[0m\n\u001b[1;32m      3\u001b[0m \u001b[0md\u001b[0m\u001b[0;34m=\u001b[0m\u001b[0;34m\"10\"\u001b[0m\u001b[0;34m\u001b[0m\u001b[0;34m\u001b[0m\u001b[0m\n\u001b[0;32m----> 4\u001b[0;31m \u001b[0mres\u001b[0m\u001b[0;34m=\u001b[0m\u001b[0mc\u001b[0m\u001b[0;34m/\u001b[0m\u001b[0md\u001b[0m\u001b[0;34m\u001b[0m\u001b[0;34m\u001b[0m\u001b[0m\n\u001b[0m",
            "\u001b[0;31mTypeError\u001b[0m: unsupported operand type(s) for /: 'int' and 'str'"
          ]
        }
      ]
    },
    {
      "cell_type": "code",
      "source": [
        "#NameError exceptional handling\n",
        "try:\n",
        "  print(x)\n",
        "except NameError as ne:\n",
        "  print(\"testcase1:\",ne)\n",
        "print(\"executed\")"
      ],
      "metadata": {
        "colab": {
          "base_uri": "https://localhost:8080/"
        },
        "id": "ZYKBEx9N7c3E",
        "outputId": "35322c18-8782-411f-e704-bf681de73f66"
      },
      "execution_count": 8,
      "outputs": [
        {
          "output_type": "stream",
          "name": "stdout",
          "text": [
            "testcase1: name 'x' is not defined\n",
            "executed\n"
          ]
        }
      ]
    },
    {
      "cell_type": "code",
      "source": [
        "#IndexError exceptional handling\n",
        "li=[1,2,3,4]\n",
        "try:\n",
        "  print(li[5])\n",
        "except IndexError as ie:\n",
        "  print(\"testcase1:\",ie)\n",
        "print(\"executed\")"
      ],
      "metadata": {
        "colab": {
          "base_uri": "https://localhost:8080/"
        },
        "id": "dJXBZyM37ma6",
        "outputId": "49a05589-5c4c-4fed-ebae-b98b16e06a25"
      },
      "execution_count": 9,
      "outputs": [
        {
          "output_type": "stream",
          "name": "stdout",
          "text": [
            "testcase1: list index out of range\n",
            "executed\n"
          ]
        }
      ]
    },
    {
      "cell_type": "code",
      "source": [
        "#TypeError exceptional handling\n",
        "a=10\n",
        "b=\"10\"\n",
        " \n",
        "try:\n",
        "  print(a/b)\n",
        "except TypeError as te:\n",
        "  print(\"testcase1:\",te)\n",
        "print(\"executed\")"
      ],
      "metadata": {
        "colab": {
          "base_uri": "https://localhost:8080/"
        },
        "id": "eLJd3ZjY7sIA",
        "outputId": "ded266e4-d614-4452-d37a-07897321987b"
      },
      "execution_count": 10,
      "outputs": [
        {
          "output_type": "stream",
          "name": "stdout",
          "text": [
            "testcase1: unsupported operand type(s) for /: 'int' and 'str'\n",
            "executed\n"
          ]
        }
      ]
    },
    {
      "cell_type": "code",
      "source": [
        "#ZeroDivisionError exceptional handling\n",
        "try:\n",
        "  print(10/0)\n",
        "except ZeroDivisionError as ze:\n",
        "  print(\"testcase1:\",ze)\n",
        "print(\"executed\")"
      ],
      "metadata": {
        "colab": {
          "base_uri": "https://localhost:8080/"
        },
        "id": "aCEW5kJ17tvb",
        "outputId": "53244a57-d2c7-4489-cb9d-1e195819b998"
      },
      "execution_count": 11,
      "outputs": [
        {
          "output_type": "stream",
          "name": "stdout",
          "text": [
            "testcase1: division by zero\n",
            "executed\n"
          ]
        }
      ]
    },
    {
      "cell_type": "code",
      "source": [
        "#key error exceptional handling\n",
        "myd={1:\"apple\",2:\"banana\"}\n",
        " \n",
        "try:\n",
        "  print(myd[3])\n",
        "except KeyError as ke:\n",
        "  print(\"testcase1:\",ke)\n",
        "print(\"executed\")"
      ],
      "metadata": {
        "colab": {
          "base_uri": "https://localhost:8080/"
        },
        "id": "RHpYYLDQ7xTk",
        "outputId": "8d6fafdf-af1e-4ba0-9b0b-6cb5c423f1aa"
      },
      "execution_count": 12,
      "outputs": [
        {
          "output_type": "stream",
          "name": "stdout",
          "text": [
            "testcase1: 3\n",
            "executed\n"
          ]
        }
      ]
    },
    {
      "cell_type": "code",
      "source": [
        "#value error exceptional handling\n",
        "a=\"25 xyz\"\n",
        " \n",
        "try:\n",
        "  print(int(a))\n",
        "except ValueError as ve:\n",
        "  print(\"testcase1:\",ve)\n",
        "print(\"executed\")"
      ],
      "metadata": {
        "colab": {
          "base_uri": "https://localhost:8080/"
        },
        "id": "w86O7jg9703Y",
        "outputId": "9e7499a7-998f-488e-e071-b5a3c4b818ee"
      },
      "execution_count": 13,
      "outputs": [
        {
          "output_type": "stream",
          "name": "stdout",
          "text": [
            "testcase1: invalid literal for int() with base 10: '25 xyz'\n",
            "executed\n"
          ]
        }
      ]
    },
    {
      "cell_type": "code",
      "source": [
        "class INVALIDSTUD_ID(Exception):\n",
        "  def __str__(self):\n",
        "    return \"error raised\"\n",
        "id=input(\"enter id:\")\n",
        "try:\n",
        "  if(id[:4]!='2003'):\n",
        "    raise INVALIDSTUD_ID\n",
        "  else:\n",
        "    print(\"Verified\")\n",
        "except INVALIDSTUD_ID as i:\n",
        "  print(i)\n",
        "print(\"details checked\")"
      ],
      "metadata": {
        "colab": {
          "base_uri": "https://localhost:8080/"
        },
        "id": "K2DANjY674ar",
        "outputId": "6c3b057e-cf5e-423f-df00-ef714bfea2d7"
      },
      "execution_count": 14,
      "outputs": [
        {
          "output_type": "stream",
          "name": "stdout",
          "text": [
            "enter id:2003\n",
            "Verified\n",
            "details checked\n"
          ]
        }
      ]
    },
    {
      "cell_type": "code",
      "source": [
        "#age exception\n",
        "class INVALIDAGE(Exception):\n",
        "  def __str__(self):\n",
        "    return \"invalid age\"\n",
        "age=int(input(\"enter age:\"))\n",
        "try:\n",
        "  if age<18:\n",
        "    raise INVALIDAGE\n",
        "  else:\n",
        "    print(\"valid age\")\n",
        "except INVALIDAGE as i:\n",
        "  print(i)\n",
        "print(\"done\")"
      ],
      "metadata": {
        "colab": {
          "base_uri": "https://localhost:8080/"
        },
        "id": "-UI5Png979-a",
        "outputId": "452fcd62-d10b-4130-fc2d-55d5c05ad629"
      },
      "execution_count": 15,
      "outputs": [
        {
          "output_type": "stream",
          "name": "stdout",
          "text": [
            "enter age:18\n",
            "valid age\n",
            "done\n"
          ]
        }
      ]
    },
    {
      "cell_type": "code",
      "source": [
        "#modules\n",
        "#os module\n",
        "import os\n",
        "#os.mkdir(\"hi\")\n",
        "#os.chdir(\"hi\")\n",
        "os.getcwd()#current working dir\n",
        "os.listdir()#list of dir\n",
        "os.rmdir(\"/content/hi\")#remove dir \"hi\" through setting path"
      ],
      "metadata": {
        "colab": {
          "base_uri": "https://localhost:8080/",
          "height": 200
        },
        "id": "z32Oh6K28C6n",
        "outputId": "baf72ff8-113e-43b6-ae20-8e481aa577b5"
      },
      "execution_count": 16,
      "outputs": [
        {
          "output_type": "error",
          "ename": "FileNotFoundError",
          "evalue": "ignored",
          "traceback": [
            "\u001b[0;31m---------------------------------------------------------------------------\u001b[0m",
            "\u001b[0;31mFileNotFoundError\u001b[0m                         Traceback (most recent call last)",
            "\u001b[0;32m<ipython-input-16-03b3b9842b41>\u001b[0m in \u001b[0;36m<module>\u001b[0;34m\u001b[0m\n\u001b[1;32m      6\u001b[0m \u001b[0mos\u001b[0m\u001b[0;34m.\u001b[0m\u001b[0mgetcwd\u001b[0m\u001b[0;34m(\u001b[0m\u001b[0;34m)\u001b[0m\u001b[0;31m#current working dir\u001b[0m\u001b[0;34m\u001b[0m\u001b[0;34m\u001b[0m\u001b[0m\n\u001b[1;32m      7\u001b[0m \u001b[0mos\u001b[0m\u001b[0;34m.\u001b[0m\u001b[0mlistdir\u001b[0m\u001b[0;34m(\u001b[0m\u001b[0;34m)\u001b[0m\u001b[0;31m#list of dir\u001b[0m\u001b[0;34m\u001b[0m\u001b[0;34m\u001b[0m\u001b[0m\n\u001b[0;32m----> 8\u001b[0;31m \u001b[0mos\u001b[0m\u001b[0;34m.\u001b[0m\u001b[0mrmdir\u001b[0m\u001b[0;34m(\u001b[0m\u001b[0;34m\"/content/hi\"\u001b[0m\u001b[0;34m)\u001b[0m\u001b[0;31m#remove dir \"hi\" through setting path\u001b[0m\u001b[0;34m\u001b[0m\u001b[0;34m\u001b[0m\u001b[0m\n\u001b[0m",
            "\u001b[0;31mFileNotFoundError\u001b[0m: [Errno 2] No such file or directory: '/content/hi'"
          ]
        }
      ]
    },
    {
      "cell_type": "code",
      "source": [
        "#math \n",
        "import math as m\n",
        "print(m.pi)\n",
        "print(m.e)\n",
        "print(m.sqrt(4))\n",
        "print(m.factorial(5))\n",
        "print(m.pow(5,5))\n",
        "print(m.floor(-3.7))\n",
        "print(m.tan(5))\n",
        "print(m.log(3))"
      ],
      "metadata": {
        "colab": {
          "base_uri": "https://localhost:8080/"
        },
        "id": "qHXJRfF98GeY",
        "outputId": "38bb2f03-4477-4467-ad34-dd7859a04597"
      },
      "execution_count": 17,
      "outputs": [
        {
          "output_type": "stream",
          "name": "stdout",
          "text": [
            "3.141592653589793\n",
            "2.718281828459045\n",
            "2.0\n",
            "120\n",
            "3125.0\n",
            "-4\n",
            "-3.380515006246586\n",
            "1.0986122886681098\n"
          ]
        }
      ]
    },
    {
      "cell_type": "code",
      "source": [
        "#sys module\n",
        "import sys\n",
        "print(sys.path)\n",
        "print(sys.version)\n",
        "print(sys.maxsize)\n",
        "print(sys.copyright)"
      ],
      "metadata": {
        "colab": {
          "base_uri": "https://localhost:8080/"
        },
        "id": "QznzsCaP8K0W",
        "outputId": "694fbdf2-a8b6-420b-ceb6-6527b7f3aa09"
      },
      "execution_count": 18,
      "outputs": [
        {
          "output_type": "stream",
          "name": "stdout",
          "text": [
            "['/content', '/env/python', '/usr/lib/python38.zip', '/usr/lib/python3.8', '/usr/lib/python3.8/lib-dynload', '', '/usr/local/lib/python3.8/dist-packages', '/usr/lib/python3/dist-packages', '/usr/local/lib/python3.8/dist-packages/IPython/extensions', '/root/.ipython']\n",
            "3.8.10 (default, Nov 14 2022, 12:59:47) \n",
            "[GCC 9.4.0]\n",
            "9223372036854775807\n",
            "Copyright (c) 2001-2021 Python Software Foundation.\n",
            "All Rights Reserved.\n",
            "\n",
            "Copyright (c) 2000 BeOpen.com.\n",
            "All Rights Reserved.\n",
            "\n",
            "Copyright (c) 1995-2001 Corporation for National Research Initiatives.\n",
            "All Rights Reserved.\n",
            "\n",
            "Copyright (c) 1991-1995 Stichting Mathematisch Centrum, Amsterdam.\n",
            "All Rights Reserved.\n"
          ]
        }
      ]
    },
    {
      "cell_type": "code",
      "source": [
        "#statictics module\n",
        "import statistics as s\n",
        "print(s.mean([4,6,7,2,35]))#give the values in the form of list\n",
        "print(s.median([2,3,5,4,6]))\n",
        "print(s.mode([34,6,8,8,8,34,4,54]))"
      ],
      "metadata": {
        "colab": {
          "base_uri": "https://localhost:8080/"
        },
        "id": "eQ_cEDQQ8O6N",
        "outputId": "71abf770-df86-4c65-e04d-7a5da4c6875a"
      },
      "execution_count": 19,
      "outputs": [
        {
          "output_type": "stream",
          "name": "stdout",
          "text": [
            "10.8\n",
            "4\n",
            "8\n"
          ]
        }
      ]
    },
    {
      "cell_type": "code",
      "source": [
        "#random module\n",
        "import random as r\n",
        "print(r.randrange(1,50))\n",
        "print(r.randint(1,100))\n",
        "print(r.random())"
      ],
      "metadata": {
        "colab": {
          "base_uri": "https://localhost:8080/"
        },
        "id": "MqS98x_38TGc",
        "outputId": "b2833d42-01e4-44f5-c93e-e671f4a274fb"
      },
      "execution_count": 20,
      "outputs": [
        {
          "output_type": "stream",
          "name": "stdout",
          "text": [
            "21\n",
            "17\n",
            "0.399447011948144\n"
          ]
        }
      ]
    },
    {
      "cell_type": "code",
      "source": [
        "import random \n",
        "guess_no=int(input(\"predict a number\"))\n",
        "G=random.randint(1,5)\n",
        "if G==guess_no:\n",
        "  print(\"you won\")\n",
        "else:\n",
        "  print(\"you lose\")"
      ],
      "metadata": {
        "colab": {
          "base_uri": "https://localhost:8080/"
        },
        "id": "lRqRn1jJ8WUB",
        "outputId": "a8a1a131-a4dd-4172-fcad-62f0a241efda"
      },
      "execution_count": 21,
      "outputs": [
        {
          "output_type": "stream",
          "name": "stdout",
          "text": [
            "predict a number2\n",
            "you lose\n"
          ]
        }
      ]
    },
    {
      "cell_type": "code",
      "source": [
        "import re\n",
        "def check(email):\n",
        "  if(re.fullmatch(regex, email)):\n",
        "        print(\"Valid Email\")\n",
        "  else:\n",
        "        print(\"Invalid Email\")\n",
        "\n",
        "if __name__ == '__main__':\n",
        " \n",
        "    email=input(\"enter email id:\")\n",
        "    check(email)"
      ],
      "metadata": {
        "colab": {
          "base_uri": "https://localhost:8080/",
          "height": 339
        },
        "id": "mDBn5ZMC8a-l",
        "outputId": "676e4113-4253-46b0-f769-5daef77f675b"
      },
      "execution_count": 26,
      "outputs": [
        {
          "name": "stdout",
          "output_type": "stream",
          "text": [
            "enter email id:pvggmail.com\n"
          ]
        },
        {
          "output_type": "error",
          "ename": "NameError",
          "evalue": "ignored",
          "traceback": [
            "\u001b[0;31m---------------------------------------------------------------------------\u001b[0m",
            "\u001b[0;31mNameError\u001b[0m                                 Traceback (most recent call last)",
            "\u001b[0;32m<ipython-input-26-8482e428c70f>\u001b[0m in \u001b[0;36m<module>\u001b[0;34m\u001b[0m\n\u001b[1;32m      9\u001b[0m \u001b[0;34m\u001b[0m\u001b[0m\n\u001b[1;32m     10\u001b[0m     \u001b[0memail\u001b[0m\u001b[0;34m=\u001b[0m\u001b[0minput\u001b[0m\u001b[0;34m(\u001b[0m\u001b[0;34m\"enter email id:\"\u001b[0m\u001b[0;34m)\u001b[0m\u001b[0;34m\u001b[0m\u001b[0;34m\u001b[0m\u001b[0m\n\u001b[0;32m---> 11\u001b[0;31m     \u001b[0mcheck\u001b[0m\u001b[0;34m(\u001b[0m\u001b[0memail\u001b[0m\u001b[0;34m)\u001b[0m\u001b[0;34m\u001b[0m\u001b[0;34m\u001b[0m\u001b[0m\n\u001b[0m",
            "\u001b[0;32m<ipython-input-26-8482e428c70f>\u001b[0m in \u001b[0;36mcheck\u001b[0;34m(email)\u001b[0m\n\u001b[1;32m      1\u001b[0m \u001b[0;32mimport\u001b[0m \u001b[0mre\u001b[0m\u001b[0;34m\u001b[0m\u001b[0;34m\u001b[0m\u001b[0m\n\u001b[1;32m      2\u001b[0m \u001b[0;32mdef\u001b[0m \u001b[0mcheck\u001b[0m\u001b[0;34m(\u001b[0m\u001b[0memail\u001b[0m\u001b[0;34m)\u001b[0m\u001b[0;34m:\u001b[0m\u001b[0;34m\u001b[0m\u001b[0;34m\u001b[0m\u001b[0m\n\u001b[0;32m----> 3\u001b[0;31m   \u001b[0;32mif\u001b[0m\u001b[0;34m(\u001b[0m\u001b[0mre\u001b[0m\u001b[0;34m.\u001b[0m\u001b[0mfullmatch\u001b[0m\u001b[0;34m(\u001b[0m\u001b[0mregex\u001b[0m\u001b[0;34m,\u001b[0m \u001b[0memail\u001b[0m\u001b[0;34m)\u001b[0m\u001b[0;34m)\u001b[0m\u001b[0;34m:\u001b[0m\u001b[0;34m\u001b[0m\u001b[0;34m\u001b[0m\u001b[0m\n\u001b[0m\u001b[1;32m      4\u001b[0m         \u001b[0mprint\u001b[0m\u001b[0;34m(\u001b[0m\u001b[0;34m\"Valid Email\"\u001b[0m\u001b[0;34m)\u001b[0m\u001b[0;34m\u001b[0m\u001b[0;34m\u001b[0m\u001b[0m\n\u001b[1;32m      5\u001b[0m   \u001b[0;32melse\u001b[0m\u001b[0;34m:\u001b[0m\u001b[0;34m\u001b[0m\u001b[0;34m\u001b[0m\u001b[0m\n",
            "\u001b[0;31mNameError\u001b[0m: name 'regex' is not defined"
          ]
        }
      ]
    },
    {
      "cell_type": "code",
      "source": [
        "#pickling-we do it for serialization and deserialization\n",
        "#conversion of bytes\n",
        "import pickle\n",
        "my_l1=[]"
      ],
      "metadata": {
        "id": "Ozs3HHiR8hHU"
      },
      "execution_count": 24,
      "outputs": []
    }
  ]
}