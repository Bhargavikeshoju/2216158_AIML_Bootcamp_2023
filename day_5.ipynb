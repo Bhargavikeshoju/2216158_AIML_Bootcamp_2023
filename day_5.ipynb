{
  "nbformat": 4,
  "nbformat_minor": 0,
  "metadata": {
    "colab": {
      "provenance": [],
      "authorship_tag": "ABX9TyO094ap+gI9LLL9I1ncgWNS",
      "include_colab_link": true
    },
    "kernelspec": {
      "name": "python3",
      "display_name": "Python 3"
    },
    "language_info": {
      "name": "python"
    }
  },
  "cells": [
    {
      "cell_type": "markdown",
      "metadata": {
        "id": "view-in-github",
        "colab_type": "text"
      },
      "source": [
        "<a href=\"https://colab.research.google.com/github/Bhargavikeshoju/2216158_AIML_Bootcamp_2023/blob/main/day_5.ipynb\" target=\"_parent\"><img src=\"https://colab.research.google.com/assets/colab-badge.svg\" alt=\"Open In Colab\"/></a>"
      ]
    },
    {
      "cell_type": "code",
      "execution_count": null,
      "metadata": {
        "colab": {
          "base_uri": "https://localhost:8080/"
        },
        "id": "GiiEJt7gDqLV",
        "outputId": "2850d1f4-affd-4e25-e799-deaa065be4bb"
      },
      "outputs": [
        {
          "output_type": "stream",
          "name": "stdout",
          "text": [
            "5\n",
            "4\n"
          ]
        }
      ],
      "source": [
        "#lambda function\n",
        "def inc(x):\n",
        "  x=x+1\n",
        "  return x\n",
        "\n",
        "print((lambda x:x+1)(4))\n",
        "inc(4)\n",
        "print((lambda x,y:x**y)(2,2))"
      ]
    },
    {
      "cell_type": "code",
      "source": [
        "#mapping function\n",
        "l={1,2,3,4}\n",
        "def fun(n):\n",
        "  return n+2\n",
        "res=list(map(inc,l))\n",
        "print(res)\n",
        "\n",
        "print(list(map(lambda x:x+2,l)))"
      ],
      "metadata": {
        "colab": {
          "base_uri": "https://localhost:8080/"
        },
        "id": "Sv8DhlsfFbW1",
        "outputId": "4f8d1ddd-b958-45e9-f586-b1751ffc7c39"
      },
      "execution_count": null,
      "outputs": [
        {
          "output_type": "stream",
          "name": "stdout",
          "text": [
            "[2, 3, 4, 5]\n",
            "[3, 4, 5, 6]\n"
          ]
        }
      ]
    },
    {
      "cell_type": "code",
      "source": [
        "l1=['apple','banana','cherry']\n",
        "print(list(map(lambda x:x.capitalize(),l1)))\n",
        "print(list(map(lambda x:x.title(),l1)))\n",
        "print(list(map(lambda x:x.isalpha(),l1)))\n",
        "print(list(map(lambda x:x.isnumeric(),l1)))\n",
        "print(list(map(lambda x:x.lower(),l1)))\n",
        "print(list(map(lambda x:x.upper(),l1)))"
      ],
      "metadata": {
        "colab": {
          "base_uri": "https://localhost:8080/"
        },
        "id": "Jc-Lnq76GAm_",
        "outputId": "16dbffd6-73fd-466a-c840-318348a79a30"
      },
      "execution_count": null,
      "outputs": [
        {
          "output_type": "stream",
          "name": "stdout",
          "text": [
            "['Apple', 'Banana', 'Cherry']\n",
            "['Apple', 'Banana', 'Cherry']\n",
            "[True, True, True]\n",
            "[False, False, False]\n",
            "['apple', 'banana', 'cherry']\n",
            "['APPLE', 'BANANA', 'CHERRY']\n"
          ]
        }
      ]
    },
    {
      "cell_type": "code",
      "source": [
        "def eor(num):\n",
        "  if num%2==0:\n",
        "    return \"the number {} is even\".format(num)\n",
        "  else:\n",
        "    return \"the number {} is odd\".format(num)\n",
        "\n",
        "eor(20)"
      ],
      "metadata": {
        "colab": {
          "base_uri": "https://localhost:8080/",
          "height": 35
        },
        "id": "XJW-Rs2qIChu",
        "outputId": "f87f8692-461a-48e7-802b-50534e4bc6db"
      },
      "execution_count": null,
      "outputs": [
        {
          "output_type": "execute_result",
          "data": {
            "text/plain": [
              "'the number 20 is even'"
            ],
            "application/vnd.google.colaboratory.intrinsic+json": {
              "type": "string"
            }
          },
          "metadata": {},
          "execution_count": 14
        }
      ]
    },
    {
      "cell_type": "code",
      "source": [
        "l2=[1,2,3,4,5,6,7,8,9,10]\n",
        "list(map(eor,l2))"
      ],
      "metadata": {
        "colab": {
          "base_uri": "https://localhost:8080/"
        },
        "id": "cJmhhq-oIdDF",
        "outputId": "1446bb1e-604d-488b-ae60-99e1924ea3cc"
      },
      "execution_count": null,
      "outputs": [
        {
          "output_type": "execute_result",
          "data": {
            "text/plain": [
              "['the number 1 is odd',\n",
              " 'the number 2 is even',\n",
              " 'the number 3 is odd',\n",
              " 'the number 4 is even',\n",
              " 'the number 5 is odd',\n",
              " 'the number 6 is even',\n",
              " 'the number 7 is odd',\n",
              " 'the number 8 is even',\n",
              " 'the number 9 is odd',\n",
              " 'the number 10 is even']"
            ]
          },
          "metadata": {},
          "execution_count": 17
        }
      ]
    },
    {
      "cell_type": "code",
      "source": [
        "#filter method\n",
        "def odd_n(n):\n",
        "  if n%2!=0:\n",
        "    return n\n",
        "\n",
        "myli=[3,6,9,4,12,343,15]\n",
        "print(list(filter(odd_n,myli)))\n",
        "\n",
        "print(list(filter(lambda x:x%2!=0,myli)))"
      ],
      "metadata": {
        "colab": {
          "base_uri": "https://localhost:8080/"
        },
        "id": "MGM3c2xTJNMn",
        "outputId": "f89cb78a-e6a4-4481-b56f-6f780b18d952"
      },
      "execution_count": null,
      "outputs": [
        {
          "output_type": "stream",
          "name": "stdout",
          "text": [
            "[3, 9, 343, 15]\n",
            "[3, 9, 343, 15]\n"
          ]
        }
      ]
    },
    {
      "cell_type": "code",
      "source": [
        "#oop principles\n",
        "#class and object\n",
        "\n",
        "class c:\n",
        "  def add(self,a,b):\n",
        "    return a+b\n",
        "  def sub(self,a,b):\n",
        "    return a-b\n",
        "\n",
        "obj=c()\n",
        "print(\"addition:\",obj.add(10,5))\n",
        "print(\"subtraction:\",obj.sub(10,5))"
      ],
      "metadata": {
        "colab": {
          "base_uri": "https://localhost:8080/"
        },
        "id": "bXOnvZ0fK_OF",
        "outputId": "5334d382-2621-4e9d-efe2-ae9f47eba3f9"
      },
      "execution_count": null,
      "outputs": [
        {
          "output_type": "stream",
          "name": "stdout",
          "text": [
            "addition: 15\n",
            "subtraction: 5\n"
          ]
        }
      ]
    },
    {
      "cell_type": "code",
      "source": [
        "#Inheritance\n",
        "#simple inheritance\n",
        "class Animal:\n",
        "  def ani_sound(self):\n",
        "    return \"make sound\"\n",
        "class Cat(Animal):\n",
        "  def cat_sound(self):\n",
        "    return self.ani_sound()+\" MEOWW\"\n",
        "  def __str__(self):\n",
        "    return \"cat\"\n",
        "\n",
        "obj=Cat()\n",
        "print(obj,obj.cat_sound())"
      ],
      "metadata": {
        "colab": {
          "base_uri": "https://localhost:8080/"
        },
        "id": "4s2FC16ONT0r",
        "outputId": "6f590db1-3e21-4a65-ae07-255cdb792773"
      },
      "execution_count": null,
      "outputs": [
        {
          "output_type": "stream",
          "name": "stdout",
          "text": [
            "cat make sound MEOWW\n"
          ]
        }
      ]
    },
    {
      "cell_type": "code",
      "source": [
        "#Hierarchial inheritance\n",
        "class Animal:\n",
        "  def ani_sound(self):\n",
        "    return \"make sound\"\n",
        "class Cat(Animal):\n",
        "  def cat_sound(self):\n",
        "    return self.ani_sound()+\" MEOWW\"\n",
        "  def __str__(self):\n",
        "    return \"Cat\"\n",
        "class Dog(Animal):\n",
        "  def dog_sound(self):\n",
        "    return self.ani_sound()+\" BOWW\"\n",
        "  def __str__(self):\n",
        "    return \"Dog\"\n",
        "\n",
        "obj=Cat()\n",
        "dobj=Dog()\n",
        "print(obj,obj.cat_sound())\n",
        "print(dobj,dobj.dog_sound())"
      ],
      "metadata": {
        "colab": {
          "base_uri": "https://localhost:8080/"
        },
        "id": "hC2mybsZP-wX",
        "outputId": "d3642fa8-d655-4ea6-9475-7476cd863a71"
      },
      "execution_count": null,
      "outputs": [
        {
          "output_type": "stream",
          "name": "stdout",
          "text": [
            "Cat make sound MEOWW\n",
            "Dog make sound BOWW\n"
          ]
        }
      ]
    },
    {
      "cell_type": "code",
      "source": [
        "#Multilevel inheritance\n",
        "class Animal:\n",
        "  def ani_sound(self):\n",
        "    return \"make sound\"\n",
        "class Cat(Animal):\n",
        "  def cat_sound(self):\n",
        "    return self.ani_sound()+\" MEOWW\"\n",
        "  def __str__(self):\n",
        "    return \"Cat\"\n",
        "class Catcolor(Cat):\n",
        "  def __str__(self):\n",
        "    return \"cat\"\n",
        "  def color(self):\n",
        "    return \"color is brown\"\n",
        "\n",
        "cobj=Catcolor()\n",
        "print(cobj,cobj.cat_sound())\n",
        "print(cobj,cobj.color())"
      ],
      "metadata": {
        "colab": {
          "base_uri": "https://localhost:8080/"
        },
        "id": "-U_Nf65JRgCK",
        "outputId": "e9e153e7-7152-42d1-9150-25664f717a87"
      },
      "execution_count": null,
      "outputs": [
        {
          "output_type": "stream",
          "name": "stdout",
          "text": [
            "cat make sound MEOWW\n",
            "cat color is brown\n"
          ]
        }
      ]
    }
  ]
}